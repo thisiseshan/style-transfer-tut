{
  "nbformat": 4,
  "nbformat_minor": 0,
  "metadata": {
    "colab": {
      "name": "Style-Transfer-Tut.ipynb",
      "provenance": [],
      "collapsed_sections": [],
      "include_colab_link": true
    },
    "kernelspec": {
      "name": "python3",
      "display_name": "Python 3"
    }
  },
  "cells": [
    {
      "cell_type": "markdown",
      "metadata": {
        "id": "view-in-github",
        "colab_type": "text"
      },
      "source": [
        "<a href=\"https://colab.research.google.com/github/thisiseshan/style-transfer-tut/blob/master/Style_Transfer_Tut.ipynb\" target=\"_parent\"><img src=\"https://colab.research.google.com/assets/colab-badge.svg\" alt=\"Open In Colab\"/></a>"
      ]
    },
    {
      "cell_type": "markdown",
      "metadata": {
        "id": "cijUWTxCa7LC",
        "colab_type": "text"
      },
      "source": [
        "#Style Transfer tutorial with Deep Neural Networks"
      ]
    },
    {
      "cell_type": "markdown",
      "metadata": {
        "id": "ajPdIxPYbCDc",
        "colab_type": "text"
      },
      "source": [
        "We will use a VGG-19 model to go about this notebook in PyTorch.  Conv_1_1 is the first convolutional layer that an image is passed through, in the first stack. Conv_2_1 is the first convolutional layer in the second stack. The deepest convolutional layer in the network is conv_5_4."
      ]
    },
    {
      "cell_type": "markdown",
      "metadata": {
        "id": "KlDR7tEca2h9",
        "colab_type": "text"
      },
      "source": [
        "We will first separate our image into two sections:\n",
        "\n",
        "\n",
        "1.   Content image\n",
        "2.   Style image\n",
        "\n",
        "Basic idea is to extract objects and structures from the **Content image** and extract style and colors from **Style image**.\n",
        "\n",
        "Enough talk, Let's get started!\n"
      ]
    },
    {
      "cell_type": "code",
      "metadata": {
        "id": "Lh2ACZyLcTvb",
        "colab_type": "code",
        "colab": {}
      },
      "source": [
        ""
      ],
      "execution_count": 0,
      "outputs": []
    }
  ]
}